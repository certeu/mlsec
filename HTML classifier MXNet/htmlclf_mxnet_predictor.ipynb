{
 "cells": [
  {
   "cell_type": "code",
   "execution_count": null,
   "metadata": {
    "id": "6wfEw3CEGYbh"
   },
   "outputs": [],
   "source": [
    "import numpy as np\n",
    "import mxnet as mx\n",
    "from extractor import extract_features\n",
    "from model_mxnet import custom_model"
   ]
  },
  {
   "cell_type": "code",
   "execution_count": null,
   "metadata": {},
   "outputs": [],
   "source": [
    "ctx = mx.gpu(0) if mx.context.num_gpus() else mx.cpu()"
   ]
  },
  {
   "cell_type": "code",
   "execution_count": null,
   "metadata": {
    "id": "EkkwlD5FWFPr"
   },
   "outputs": [],
   "source": [
    "net = custom_model()"
   ]
  },
  {
   "cell_type": "code",
   "execution_count": null,
   "metadata": {
    "id": "rlGXhfWIVhYe"
   },
   "outputs": [],
   "source": [
    "net.load_parameters('net.params',ctx=ctx)"
   ]
  },
  {
   "cell_type": "code",
   "execution_count": null,
   "metadata": {
    "colab": {
     "base_uri": "https://localhost:8080/"
    },
    "executionInfo": {
     "elapsed": 432,
     "status": "ok",
     "timestamp": 1604511134549,
     "user": {
      "displayName": "Bernd Schomburg",
      "photoUrl": "",
      "userId": "04690499344915037675"
     },
     "user_tz": -60
    },
    "id": "DIf08oN4WQMk",
    "outputId": "1447ec8e-4300-4f21-cb3e-3d9f7118d116"
   },
   "outputs": [],
   "source": [
    "with open(\"Augustus.htm\", 'rb') as f:\n",
    "  content = f.read()\n",
    "\n",
    "data = extract_features(content, hash_dim= 1024, split_regex=rb\"\\s+\")\n",
    "\n",
    "data = mx.nd.array(data)\n",
    "data = data.expand_dims(axis=0)"
   ]
  },
  {
   "cell_type": "code",
   "execution_count": null,
   "metadata": {
    "colab": {
     "base_uri": "https://localhost:8080/"
    },
    "executionInfo": {
     "elapsed": 452,
     "status": "ok",
     "timestamp": 1604511699713,
     "user": {
      "displayName": "Bernd Schomburg",
      "photoUrl": "",
      "userId": "04690499344915037675"
     },
     "user_tz": -60
    },
    "id": "XRB2Iu272hP9",
    "outputId": "9b3cd0ca-eeb9-4935-d06d-64ae19659272"
   },
   "outputs": [],
   "source": [
    "labels = ['benign','malicious']\n",
    "pred = net(data)\n",
    "\n",
    "prob = pred[0].asnumpy()\n",
    "\n",
    "prob = np.squeeze(prob)\n",
    "\n",
    "idx = 0 if prob < .5 else 1\n",
    "\n",
    "if idx == 0:\n",
    "    prob = 1-prob\n",
    "    \n",
    "print('class = %s, probability %f' % (labels[idx], prob))"
   ]
  }
 ],
 "metadata": {
  "accelerator": "GPU",
  "colab": {
   "collapsed_sections": [],
   "name": "htmlclf_mxnet_predictor.ipynb",
   "provenance": [
    {
     "file_id": "1UKq5nlcnb7x534JYs_p3EsCPCqg4QYwY",
     "timestamp": 1604522163976
    }
   ]
  },
  "kernelspec": {
   "display_name": "Python 3",
   "language": "python",
   "name": "python3"
  },
  "language_info": {
   "codemirror_mode": {
    "name": "ipython",
    "version": 3
   },
   "file_extension": ".py",
   "mimetype": "text/x-python",
   "name": "python",
   "nbconvert_exporter": "python",
   "pygments_lexer": "ipython3",
   "version": "3.7.6"
  }
 },
 "nbformat": 4,
 "nbformat_minor": 1
}
