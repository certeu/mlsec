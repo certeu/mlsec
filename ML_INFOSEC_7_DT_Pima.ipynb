{
  "nbformat": 4,
  "nbformat_minor": 0,
  "metadata": {
    "colab": {
      "name": "ML INFOSEC 7 DT_Pima.ipynb",
      "version": "0.3.2",
      "provenance": [],
      "collapsed_sections": []
    },
    "language_info": {
      "codemirror_mode": {
        "name": "ipython",
        "version": 3
      },
      "file_extension": ".py",
      "mimetype": "text/x-python",
      "name": "python",
      "nbconvert_exporter": "python",
      "pygments_lexer": "ipython3",
      "version": "3.6.7"
    },
    "kernelspec": {
      "display_name": "Python 3 (Ubuntu Linux)",
      "language": "python",
      "metadata": {
        "cocalc": {
          "description": "Python 3 programming language",
          "priority": 100,
          "url": "https://www.python.org/"
        }
      },
      "name": "python3"
    }
  },
  "cells": [
    {
      "cell_type": "markdown",
      "metadata": {
        "collapsed": false,
        "id": "j2G4qEQjYwQn",
        "colab_type": "text"
      },
      "source": [
        "# ML INFOSEC 7\n"
      ]
    },
    {
      "cell_type": "markdown",
      "metadata": {
        "collapsed": false,
        "id": "P_8C0sa_YwQp",
        "colab_type": "text"
      },
      "source": [
        "### Setup"
      ]
    },
    {
      "cell_type": "code",
      "metadata": {
        "id": "0Nm4-va5YwQr",
        "colab_type": "code",
        "colab": {}
      },
      "source": [
        "import os\n",
        "import numpy as np\n",
        "import pandas as pd\n",
        "from sklearn.model_selection import train_test_split"
      ],
      "execution_count": 0,
      "outputs": []
    },
    {
      "cell_type": "code",
      "metadata": {
        "id": "rxEHnnSqLBmF",
        "colab_type": "code",
        "colab": {}
      },
      "source": [
        "import graphviz\n",
        "from graphviz import Source"
      ],
      "execution_count": 0,
      "outputs": []
    },
    {
      "cell_type": "markdown",
      "metadata": {
        "collapsed": false,
        "id": "Jvc8XuQhYwQ1",
        "colab_type": "text"
      },
      "source": [
        "### Get, display and transform the data"
      ]
    },
    {
      "cell_type": "code",
      "metadata": {
        "scrolled": true,
        "id": "KYr4kIa1YwQ2",
        "colab_type": "code",
        "colab": {}
      },
      "source": [
        "csv_path = \"diabetes.csv\"\n",
        "data = pd.read_csv(csv_path)\n",
        "data"
      ],
      "execution_count": 0,
      "outputs": []
    },
    {
      "cell_type": "markdown",
      "metadata": {
        "collapsed": false,
        "id": "TsqXSZE_YwQ-",
        "colab_type": "text"
      },
      "source": [
        "### Transform into numpy format"
      ]
    },
    {
      "cell_type": "code",
      "metadata": {
        "id": "J0j5NjMQYwQ_",
        "colab_type": "code",
        "colab": {}
      },
      "source": [
        "feature_names=data.columns.values.tolist()[:-1]\n",
        "\n",
        "class_names = ['No diabetes', 'Diabetes']\n",
        "data = data.values\n",
        "#print(data)\n"
      ],
      "execution_count": 0,
      "outputs": []
    },
    {
      "cell_type": "code",
      "metadata": {
        "id": "AJhuAaAeYwRD",
        "colab_type": "code",
        "colab": {}
      },
      "source": [
        "X, y = data[:,:-1], data[:,-1]"
      ],
      "execution_count": 0,
      "outputs": []
    },
    {
      "cell_type": "markdown",
      "metadata": {
        "collapsed": false,
        "id": "MpqK_v98YwRG",
        "colab_type": "text"
      },
      "source": [
        "### Build DT classifier"
      ]
    },
    {
      "cell_type": "code",
      "metadata": {
        "id": "d1E_3V2fYwRH",
        "colab_type": "code",
        "colab": {}
      },
      "source": [
        "from sklearn import tree\n",
        "from sklearn.tree import DecisionTreeClassifier\n",
        "\n",
        "clf = DecisionTreeClassifier(max_depth =5)"
      ],
      "execution_count": 0,
      "outputs": []
    },
    {
      "cell_type": "code",
      "metadata": {
        "id": "pDzrIuk8YwRK",
        "colab_type": "code",
        "colab": {}
      },
      "source": [
        "X_train, X_test, y_train, y_test = train_test_split(\n",
        "    X, y, test_size=0.2, random_state=143)\n",
        "\n",
        "clf = clf.fit(X_train, y_train)"
      ],
      "execution_count": 0,
      "outputs": []
    },
    {
      "cell_type": "markdown",
      "metadata": {
        "id": "qmsAwNMAMHty",
        "colab_type": "text"
      },
      "source": [
        "###Visualise decision tree"
      ]
    },
    {
      "cell_type": "code",
      "metadata": {
        "id": "YQBQN0QLkPid",
        "colab_type": "code",
        "colab": {}
      },
      "source": [
        "Source(tree.export_graphviz(clf,feature_names= feature_names,class_names = class_names,filled = True,rounded = True))"
      ],
      "execution_count": 0,
      "outputs": []
    },
    {
      "cell_type": "markdown",
      "metadata": {
        "id": "2Sc1JevMnPPy",
        "colab_type": "text"
      },
      "source": [
        "### Save visualised tree as pdf file"
      ]
    },
    {
      "cell_type": "code",
      "metadata": {
        "id": "5u19_ndxsAbK",
        "colab_type": "code",
        "colab": {}
      },
      "source": [
        "graph = graphviz.Source(tree.export_graphviz(clf,feature_names= feature_names,class_names = class_names,filled = True,rounded = True)) \n",
        "graph.render(\"pima\") "
      ],
      "execution_count": 0,
      "outputs": []
    }
  ]
}