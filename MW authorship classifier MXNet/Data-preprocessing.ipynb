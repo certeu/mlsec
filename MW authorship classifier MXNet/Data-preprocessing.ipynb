{
 "cells": [
  {
   "cell_type": "markdown",
   "metadata": {},
   "source": [
    "# Data preprocessing"
   ]
  },
  {
   "cell_type": "markdown",
   "metadata": {},
   "source": [
    "The `data2list.py` and `list2rec.py` scripts must be uploaded in the same folder as this notebook."
   ]
  },
  {
   "cell_type": "markdown",
   "metadata": {},
   "source": [
    "We execute the script for the training files. This script will output 7 files in the root folder of your notebook:\n",
    "- `output_acr_label_to_name.json`\n",
    "- `output_acr_train.lst`\n",
    "- `output_acr_train.idx`\n",
    "- `output_acr_train.rec`\n",
    "- `output_acr_val.lst`\n",
    "- `output_acr_val.idx`\n",
    "- `output_acr_val.rec`"
   ]
  },
  {
   "cell_type": "code",
   "execution_count": null,
   "metadata": {},
   "outputs": [],
   "source": [
    "!python3 data2list.py   output_acr [path to data folder] --recursive --train .8"
   ]
  },
  {
   "cell_type": "code",
   "execution_count": null,
   "metadata": {},
   "outputs": [],
   "source": [
    "!python3 list2rec.py  output_acr [path to data folder] --num-thread 16"
   ]
  }
 ],
 "metadata": {
  "kernelspec": {
   "display_name": "Python 3",
   "language": "python",
   "name": "python3"
  },
  "language_info": {
   "codemirror_mode": {
    "name": "ipython",
    "version": 3
   },
   "file_extension": ".py",
   "mimetype": "text/x-python",
   "name": "python",
   "nbconvert_exporter": "python",
   "pygments_lexer": "ipython3",
   "version": "3.7.6"
  }
 },
 "nbformat": 4,
 "nbformat_minor": 4
}
