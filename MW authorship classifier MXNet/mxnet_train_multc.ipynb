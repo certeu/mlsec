{
 "cells": [
  {
   "cell_type": "code",
   "execution_count": null,
   "metadata": {
    "executionInfo": {
     "elapsed": 1330,
     "status": "ok",
     "timestamp": 1604569412545,
     "user": {
      "displayName": "Bernd Schomburg",
      "photoUrl": "",
      "userId": "04690499344915037675"
     },
     "user_tz": -60
    },
    "id": "6wfEw3CEGYbh"
   },
   "outputs": [],
   "source": [
    "import os\n",
    "import re\n",
    "import time\n",
    "import json\n",
    "import pickle\n",
    "\n",
    "import numpy as np\n",
    "import mxnet as mx\n",
    "from mxnet import gluon, autograd, recordio"
   ]
  },
  {
   "cell_type": "code",
   "execution_count": null,
   "metadata": {
    "executionInfo": {
     "elapsed": 1142,
     "status": "ok",
     "timestamp": 1604569289850,
     "user": {
      "displayName": "Bernd Schomburg",
      "photoUrl": "",
      "userId": "04690499344915037675"
     },
     "user_tz": -60
    },
    "id": "jux-01-gGYbk"
   },
   "outputs": [],
   "source": [
    "class CustomRecordDataset(gluon.data.dataset.RecordFileDataset):\n",
    "        \"\"\"A custom dataset wrapping over a RecordIO file containining a feature representation \n",
    "        of sample data and its corresponding label.\n",
    "\n",
    "        Parameters\n",
    "        ----------\n",
    "        filename : str\n",
    "            Path to rec file.\n",
    "        \"\"\"\n",
    "\n",
    "        def __init__(self, filename):\n",
    "            super(CustomRecordDataset, self).__init__(filename)\n",
    "\n",
    "        def __getitem__(self, idx):\n",
    "            record = super(CustomRecordDataset, self).__getitem__(idx)\n",
    "            header, data = recordio.unpack(record)\n",
    "            data = pickle.loads(data)\n",
    "            return mx.nd.array(data), np.array(header.label, dtype=np.int32)"
   ]
  },
  {
   "cell_type": "code",
   "execution_count": null,
   "metadata": {
    "executionInfo": {
     "elapsed": 381,
     "status": "ok",
     "timestamp": 1604569297294,
     "user": {
      "displayName": "Bernd Schomburg",
      "photoUrl": "",
      "userId": "04690499344915037675"
     },
     "user_tz": -60
    },
    "id": "1N9YfgWYGYbn"
   },
   "outputs": [],
   "source": [
    "# Constants\n",
    "BATCH_SIZE = 128\n",
    "EPOCHS = 512\n",
    "NUM_WORKERS = 8\n",
    "\n",
    "#for randomness\n",
    "mx.random.seed(999)"
   ]
  },
  {
   "cell_type": "code",
   "execution_count": null,
   "metadata": {},
   "outputs": [],
   "source": [
    "with open('output_acr_label_to_name.json', 'r') as f:\n",
    "    label_to_name = json.load(f)\n",
    "\n",
    "num_classes = len(label_to_name)\n",
    "print(num_classes)"
   ]
  },
  {
   "cell_type": "code",
   "execution_count": null,
   "metadata": {},
   "outputs": [],
   "source": [
    "# Function to define neural network\n",
    "def custom_model():\n",
    "    net = gluon.nn.HybridSequential()\n",
    "    with net.name_scope():\n",
    "        net.add(gluon.nn.Dropout(.2))\n",
    "        net.add(gluon.nn.Dense(2000, activation='relu'))\n",
    "        net.add(gluon.nn.Dropout(.5))\n",
    "        net.add(gluon.nn.Dense(1000, activation='relu'))\n",
    "        net.add(gluon.nn.Dropout(.5))\n",
    "        net.add(gluon.nn.Dense(1000, activation='relu'))\n",
    "        net.add(gluon.nn.Dropout(.5))\n",
    "        net.add(gluon.nn.Dense(1000, activation='relu'))\n",
    "        net.add(gluon.nn.Dropout(.5))\n",
    "        net.add(gluon.nn.Dense(1000, activation='relu'))\n",
    "        net.add(gluon.nn.Dropout(.5))\n",
    "        net.add(gluon.nn.Dense(1000, activation='relu'))\n",
    "        net.add(gluon.nn.Dropout(.5))\n",
    "        net.add(gluon.nn.Dense(1000, activation='relu'))\n",
    "        net.add(gluon.nn.Dropout(.5))\n",
    "        net.add(gluon.nn.Dense(500, activation='relu'))\n",
    "        net.add(gluon.nn.Dropout(.5))\n",
    "        net.add(gluon.nn.Dense(num_classes))\n",
    "    return net"
   ]
  },
  {
   "cell_type": "code",
   "execution_count": null,
   "metadata": {
    "executionInfo": {
     "elapsed": 501,
     "status": "ok",
     "timestamp": 1604569300555,
     "user": {
      "displayName": "Bernd Schomburg",
      "photoUrl": "",
      "userId": "04690499344915037675"
     },
     "user_tz": -60
    },
    "id": "FfHltABYGYbq"
   },
   "outputs": [],
   "source": [
    "# Dataloader for training and validation\n",
    "\n",
    "train_datapath = 'output_acr_train.rec'\n",
    "train_dataset = CustomRecordDataset(train_datapath)\n",
    "train_dataloader = mx.gluon.data.DataLoader(train_dataset, batch_size= BATCH_SIZE,\n",
    "                                                    num_workers= NUM_WORKERS, shuffle=True)\n",
    "val_datapath = 'output_acr_val.rec'\n",
    "val_dataset = CustomRecordDataset(val_datapath)\n",
    "val_dataloader = mx.gluon.data.DataLoader(val_dataset, batch_size=BATCH_SIZE,\n",
    "                                                  num_workers=NUM_WORKERS, shuffle=False)\n"
   ]
  },
  {
   "cell_type": "code",
   "execution_count": null,
   "metadata": {
    "executionInfo": {
     "elapsed": 1573,
     "status": "ok",
     "timestamp": 1604569305324,
     "user": {
      "displayName": "Bernd Schomburg",
      "photoUrl": "",
      "userId": "04690499344915037675"
     },
     "user_tz": -60
    },
    "id": "CRXO2UAiGYbx"
   },
   "outputs": [],
   "source": [
    "def acc(output, label):\n",
    "    # output: (batch, num_classes) float32 ndarray\n",
    "    # label: (batch, ) int32 ndarray\n",
    "    return (output.argmax(axis=1)== label.astype('float32')).mean().asscalar()"
   ]
  },
  {
   "cell_type": "code",
   "execution_count": null,
   "metadata": {
    "colab": {
     "base_uri": "https://localhost:8080/"
    },
    "executionInfo": {
     "elapsed": 1081,
     "status": "ok",
     "timestamp": 1604569309840,
     "user": {
      "displayName": "Bernd Schomburg",
      "photoUrl": "",
      "userId": "04690499344915037675"
     },
     "user_tz": -60
    },
    "id": "4s4Aa_0KGYb3",
    "outputId": "53a6cf2f-242c-43c6-a375-1998839a6359"
   },
   "outputs": [],
   "source": [
    "if mx.context.num_gpus() > 0:\n",
    "    print(\"Running the script on single GPU\")\n",
    "    ctx = mx.gpu(0)\n",
    "else:\n",
    "    print(\"Running the script on CPU\")\n",
    "    ctx = mx.cpu()"
   ]
  },
  {
   "cell_type": "code",
   "execution_count": null,
   "metadata": {
    "colab": {
     "base_uri": "https://localhost:8080/",
     "height": 334
    },
    "executionInfo": {
     "elapsed": 398,
     "status": "error",
     "timestamp": 1604569420070,
     "user": {
      "displayName": "Bernd Schomburg",
      "photoUrl": "",
      "userId": "04690499344915037675"
     },
     "user_tz": -60
    },
    "id": "l_kTeNhAGYb5",
    "outputId": "9a002b3f-a655-48fc-f502-e6d09e69d411"
   },
   "outputs": [],
   "source": [
    "# Create a model\n",
    "net = custom_model()\n",
    "net.cast('float32')\n",
    "net.hybridize(static_alloc=True, static_shape=True)"
   ]
  },
  {
   "cell_type": "code",
   "execution_count": null,
   "metadata": {
    "id": "CCPBvqFvGYb8"
   },
   "outputs": [],
   "source": [
    "# Initialize parameters\n",
    "initializer = mx.init.Xavier(rnd_type='gaussian', factor_type=\"in\",\n",
    "                             magnitude=2)\n",
    "net.initialize(initializer, ctx=ctx)\n",
    "\n",
    "# Create optimizer\n",
    "optimizer_params = {'learning_rate': 0.0005}\n",
    "opt = mx.optimizer.create('Adam', **optimizer_params)\n",
    "\n",
    "trainer = gluon.Trainer(net.collect_params(), opt)\n",
    "loss_fn = gluon.loss.SoftmaxCrossEntropyLoss()"
   ]
  },
  {
   "cell_type": "code",
   "execution_count": null,
   "metadata": {
    "id": "AxCPrxPKGYcC"
   },
   "outputs": [],
   "source": [
    "# Function to train the model\n",
    "def train(net, train_dataloader, val_dataloader):\n",
    "\n",
    "    best_acc = 0.0\n",
    "    tic = time.time()\n",
    "    \n",
    "    for epoch in range(EPOCHS):\n",
    "        print('Epoch {}/{}'.format(epoch+1, EPOCHS))\n",
    "        print('-' * 10)\n",
    "\n",
    "        train_loss, train_acc, val_acc = 0., 0., 0.\n",
    "        \n",
    "        for data, label in train_dataloader:\n",
    "            data = data.as_in_context(ctx)\n",
    "            label = label.as_in_context(ctx)\n",
    "            \n",
    "            with autograd.record():\n",
    "                output = net(data)\n",
    "                L = loss_fn(output, label)\n",
    "            L.backward()\n",
    "\n",
    "            trainer.step(BATCH_SIZE)\n",
    " \n",
    "            train_loss += L.mean().asscalar()\n",
    "            train_acc += acc(output, label)\n",
    "\n",
    "        epoch_loss = train_loss / len(train_dataloader)\n",
    "        epoch_acc = train_acc/ len(train_dataloader)\n",
    "        print('Train loss: {:.4f} accuracy: {:.4f}'.format(epoch_loss, epoch_acc))    \n",
    "        \n",
    "        \n",
    "        for data, label in val_dataloader:\n",
    "            data = data.as_in_context(ctx)\n",
    "            label = label.as_in_context(ctx)\n",
    "            val_acc += acc(net(data), label)\n",
    "            \n",
    "        epoch_acc_val = val_acc/ len(val_dataloader)\n",
    "        print('Validation accuracy: {:.4f}'.format(epoch_acc_val))\n",
    "        print()\n",
    "        if epoch_acc_val > best_acc:\n",
    "            best_acc = epoch_acc_val\n",
    "            \n",
    "    print()    \n",
    "    time_elapsed = time.time() - tic\n",
    "    print('Training complete in {:.0f}m {:.0f}s'.format(\n",
    "        time_elapsed // 60, time_elapsed % 60))\n",
    "    print('Best validation accuracy: {:4f}'.format(best_acc))\n",
    "         \n",
    "            \n"
   ]
  },
  {
   "cell_type": "code",
   "execution_count": null,
   "metadata": {
    "colab": {
     "base_uri": "https://localhost:8080/"
    },
    "executionInfo": {
     "elapsed": 203079,
     "status": "ok",
     "timestamp": 1604511117715,
     "user": {
      "displayName": "Bernd Schomburg",
      "photoUrl": "",
      "userId": "04690499344915037675"
     },
     "user_tz": -60
    },
    "id": "p0JCHvgZGYcE",
    "outputId": "037c8215-8113-4c0c-ff04-a6fdbb8721a8"
   },
   "outputs": [],
   "source": [
    "train(net, train_dataloader, val_dataloader)"
   ]
  }
 ],
 "metadata": {
  "accelerator": "GPU",
  "colab": {
   "collapsed_sections": [],
   "name": "htmlclf_mxnet_train.ipynb",
   "provenance": []
  },
  "kernelspec": {
   "display_name": "Python 3",
   "language": "python",
   "name": "python3"
  },
  "language_info": {
   "codemirror_mode": {
    "name": "ipython",
    "version": 3
   },
   "file_extension": ".py",
   "mimetype": "text/x-python",
   "name": "python",
   "nbconvert_exporter": "python",
   "pygments_lexer": "ipython3",
   "version": "3.7.6"
  }
 },
 "nbformat": 4,
 "nbformat_minor": 1
}
